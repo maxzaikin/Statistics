{
 "cells": [
  {
   "cell_type": "markdown",
   "id": "65249043-6f61-4444-988b-ef2debf1e918",
   "metadata": {},
   "source": [
    "# FOUNDATIONS OF STATISTICS\n",
    "\n",
    "https://github.com/stat4DS/data\n",
    "\n",
    "http://www.stat.ufl.edu/"
   ]
  },
  {
   "cell_type": "markdown",
   "id": "34c72a0a-5a59-4dd2-8833-397d96bdfb2f",
   "metadata": {},
   "source": [
    "Three aspects of statistical science\n",
    "1. **Design**. Plan how to gather relevant data for the subject matter of interests.\n",
    "2. **Description**. Summaraizing the data.\n",
    "3. **Inference**. Making evaluations, such as estimations and predictions, based on the data.\n",
    "\n",
    "- Subject - an entity on which a study makes observation\n",
    "- Sample - set of subjects from the popuation\n",
    "  - Simple Random Sample of n subjects from a populations is one in which each possible sample of size n has the same probability(chance) of being selected\n",
    "- Population - is a total set of subjects\n",
    "- Parameter - numerical summary of a population\n",
    "- Data - the observations gathere on the characteristics of interests\n",
    "- Sample size - the number of subjects in the data file\n",
    "- Variable - is a characteristic that can vary in value among subjects in a sample or population\n",
    "  - quantitative variable - when measurement scale has numerical values that represent different magnitudes of variables\n",
    "    - discreete var - if it can take a set of distinct sepearate values such as non negatives 0,1,2...\n",
    "    - continious var - if it can take an infinite continuum of possible real numbers e.g. [0,1]\n",
    "  - qualitative varieables (i.e. categorical) - when the measurement scale is a set of categories\n",
    "    - binary variables - if there are only 2 categories\n",
    "    - nominal scale var - when categories are unordered and scale  doesn't have a high or low end\n",
    "    - ordinal scale - when categories are ordered\n",
    "  - Response variables - the outcome\n",
    "  - Explanatory variable - the variable that defines a group\n",
    "- Randomization - is a mechanism fir achieving good representation of a population in a survey or an experiment\n",
    "- Treatment is levels if an explanatory variables\n",
    "- Experemental design - plan for how to assign subject to the tratment"
   ]
  },
  {
   "cell_type": "markdown",
   "id": "a76562fa-c4ff-4ad5-a070-cf44f3ee9a80",
   "metadata": {},
   "source": [
    "**LINKS**\n",
    "\n",
    "- [GeneralSocialSurvey(GSS) at Berkley ](https://sda.berkeley.edu/archive.htm)\n",
    "- GeneralSocial Survey administered b yStatisticsCanada,\n",
    "- the British Social Attitudes Survey,\n",
    "- Euro barometer survey\n",
    "- European Social Survey for nations in the European Union.\n"
   ]
  },
  {
   "cell_type": "code",
   "execution_count": null,
   "id": "92ccd3ad-85a2-4b8f-9db7-3386a12df824",
   "metadata": {},
   "outputs": [],
   "source": []
  }
 ],
 "metadata": {
  "kernelspec": {
   "display_name": "Python 3 (ipykernel)",
   "language": "python",
   "name": "python3"
  },
  "language_info": {
   "codemirror_mode": {
    "name": "ipython",
    "version": 3
   },
   "file_extension": ".py",
   "mimetype": "text/x-python",
   "name": "python",
   "nbconvert_exporter": "python",
   "pygments_lexer": "ipython3",
   "version": "3.11.10"
  }
 },
 "nbformat": 4,
 "nbformat_minor": 5
}
